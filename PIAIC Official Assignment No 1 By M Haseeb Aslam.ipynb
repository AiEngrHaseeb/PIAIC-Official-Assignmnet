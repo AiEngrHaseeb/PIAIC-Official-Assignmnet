{
 "cells": [
  {
   "cell_type": "markdown",
   "metadata": {},
   "source": [
    "# 1. Calculate Area of a Circle\n",
    "#### Write a Python program which accepts the radius of a circle from the user and compute the area."
   ]
  },
  {
   "cell_type": "code",
   "execution_count": 6,
   "metadata": {},
   "outputs": [
    {
     "name": "stdout",
     "output_type": "stream",
     "text": [
      "Please Enter The Radius Of Circle For Area = .5\n",
      "Area Of Circle = 0.7855 Unit Square\n"
     ]
    }
   ],
   "source": [
    "r=float(input(\"Enter The Radius Of Circle For Area = \"))\n",
    "a=float (3.142*(r*r))\n",
    "print(f\"Area Of Circle = {a} Unit Square\")"
   ]
  },
  {
   "cell_type": "markdown",
   "metadata": {},
   "source": [
    "# 2. Check Number either positive, negative or zero\n",
    "#### Write a Python program to check if a number is positive, negative or zero"
   ]
  },
  {
   "cell_type": "code",
   "execution_count": 9,
   "metadata": {},
   "outputs": [
    {
     "name": "stdout",
     "output_type": "stream",
     "text": [
      "Enter Number = -6.3\n",
      "Your Number Is Negative....\n"
     ]
    }
   ],
   "source": [
    "a=float(input(\"Enter Number = \"))\n",
    "if a>=0:\n",
    "    if a>0:\n",
    "        print(\"Your Number Is Positive....\")\n",
    "    elif a==0:\n",
    "        print(\"You Number Is Zero....\")\n",
    "else:\n",
    "    print(\"Your Number Is Negative....\")"
   ]
  },
  {
   "cell_type": "markdown",
   "metadata": {},
   "source": [
    "## 3. Divisibility Check of two numbers\n",
    "#### Write a Python program to check whether a number is completely divisible by another number. Accept two integer values form the user"
   ]
  },
  {
   "cell_type": "code",
   "execution_count": 12,
   "metadata": {},
   "outputs": [
    {
     "name": "stdout",
     "output_type": "stream",
     "text": [
      "Enter The First Number = 7\n",
      "Enter The First Number = 3.5\n",
      "Number 7.0 is Completely divisible by 3.5\n"
     ]
    }
   ],
   "source": [
    "a=float(input(\"Enter The First Number = \"))\n",
    "b=float(input(\"Enter The First Number = \"))\n",
    "if(a%b==0):\n",
    "    print(f\"Number {a} is Completely divisible by {b}\")\n",
    "else:\n",
    "    print(f\"Number {a} is Not Completely divisible by {b}\")"
   ]
  },
  {
   "cell_type": "markdown",
   "metadata": {},
   "source": [
    "## 4. Calculate Volume of a sphere\n",
    "##### Write a Python program to get the volume of a sphere, please take the radius as input from user"
   ]
  },
  {
   "cell_type": "code",
   "execution_count": 14,
   "metadata": {},
   "outputs": [
    {
     "name": "stdout",
     "output_type": "stream",
     "text": [
      "Enter The Radius Of Sphere For Volume = 2\n",
      "Volume of the Sphere with Radius 2.0 is 33.51466666666666 Unit Cube\n"
     ]
    }
   ],
   "source": [
    "r=float(input(\"Enter The Radius Of Sphere For Volume = \"))\n",
    "v=float ((4/3)*(3.142*(r*r*r)))\n",
    "print(f\"Volume of the Sphere with Radius {r} is {v} Unit Cube\")"
   ]
  },
  {
   "cell_type": "markdown",
   "metadata": {},
   "source": [
    "# 5. Copy string n times\n",
    "#### Write a Python program to get a string which is n (non-negative integer) copies of a given string.\n"
   ]
  },
  {
   "cell_type": "code",
   "execution_count": 29,
   "metadata": {},
   "outputs": [
    {
     "name": "stdout",
     "output_type": "stream",
     "text": [
      "Enter The String = hi\n",
      "How many copies of String you need = 4\n",
      "['hi'] ['hi'] ['hi'] ['hi'] "
     ]
    }
   ],
   "source": [
    "a=[input(\"Enter The String = \")]\n",
    "b=int(input(\"How many copies of String you need = \"))\n",
    "for i in range (1,b+1):\n",
    "    print(a,end = \" \")"
   ]
  },
  {
   "cell_type": "markdown",
   "metadata": {},
   "source": [
    "# 6. Check if number is Even or Odd\n",
    "#### Write a Python program to find whether a given number (accept from the user) is even or odd, print out an appropriate message to the user\n"
   ]
  },
  {
   "cell_type": "code",
   "execution_count": 34,
   "metadata": {},
   "outputs": [
    {
     "name": "stdout",
     "output_type": "stream",
     "text": [
      "Enter Your Number = 8\n",
      "8 is Even Number....\n"
     ]
    }
   ],
   "source": [
    "a=int(input(\"Enter Your Number = \"))\n",
    "if a>=0:\n",
    "    if a%2==0:\n",
    "        print(f\"{a} is Even Number....\")\n",
    "    else:\n",
    "        print(f\"{a} is Odd Number....\")\n",
    "else:\n",
    "    print(f\"{a} is Invalid Number....\")\n",
    "    print(\"Enter Number Greater Than Zero....\")"
   ]
  },
  {
   "cell_type": "markdown",
   "metadata": {},
   "source": [
    "## 7. Vowel Tester\n",
    "#### Write a Python program to test whether a passed letter is a vowel or not\n"
   ]
  },
  {
   "cell_type": "code",
   "execution_count": 1,
   "metadata": {},
   "outputs": [
    {
     "name": "stdout",
     "output_type": "stream",
     "text": [
      "Enter The Alphabate = R\n",
      "r is Not Vowel....\n"
     ]
    }
   ],
   "source": [
    "a=str(input(\"Enter The Alphabate = \"))\n",
    "a=a.lower()\n",
    "if a=='a':\n",
    "    print(f\"{a} is Vowel....\")\n",
    "elif a=='e':\n",
    "    print(f\"{a} is Vowel....\")\n",
    "elif a=='i':\n",
    "    print(f\"{a} is Vowel....\")\n",
    "elif a=='o':\n",
    "    print(f\"{a} is Vowel....\")\n",
    "elif a=='u':\n",
    "    print(f\"{a} is Vowel....\")\n",
    "else:\n",
    "    print(f\"{a} is Not Vowel....\")"
   ]
  },
  {
   "cell_type": "markdown",
   "metadata": {},
   "source": [
    "## 8. Triangle area\n",
    "#### Write a Python program that will accept the base and height of a triangle and compute the area\n"
   ]
  },
  {
   "cell_type": "code",
   "execution_count": 2,
   "metadata": {},
   "outputs": [
    {
     "name": "stdout",
     "output_type": "stream",
     "text": [
      "Enter The Base Of Triangle = 5\n",
      "Enter The Height Of Triangle = 4\n",
      "Area Of Triangle With Base 5.0 And Height 4.0 = 10.0 Unit Square....\n"
     ]
    }
   ],
   "source": [
    "b=float(input(\"Enter The Base Of Triangle = \"))\n",
    "h=float(input(\"Enter The Height Of Triangle = \"))\n",
    "a=float (h*b)/2\n",
    "print(f\"Area Of Triangle With Base {b} And Height {h} = {a} Unit Square....\")"
   ]
  },
  {
   "cell_type": "markdown",
   "metadata": {},
   "source": [
    "## 9. Calculate Interest\n",
    "#### Write a Python program that will accept the base and height of a triangle and compute the area\n"
   ]
  },
  {
   "cell_type": "code",
   "execution_count": 7,
   "metadata": {},
   "outputs": [
    {
     "name": "stdout",
     "output_type": "stream",
     "text": [
      "Enter The Principal Amount = 10000\n",
      "Enter The Rate Of Interest In % = .1\n",
      "Enter The number of years for investment = 5\n",
      "After 5.0 years your principal amount 10000.0 over an interest rate of 0.1 % will be 16105.100000000006\n"
     ]
    }
   ],
   "source": [
    "p=float(input(\"Enter The Principal Amount = \"))\n",
    "i=float(input(\"Enter The Rate Of Interest In % = \"))\n",
    "y=float(input(\"Enter The number of years for investment = \"))\n",
    "t=float(p*((1+(i))** y))\n",
    "print(f\"After {y} years your principal amount {p} over an interest rate of {i} % will be {t}\")"
   ]
  },
  {
   "cell_type": "markdown",
   "metadata": {},
   "source": [
    "## 10. Euclidean distance\n",
    "#### write a Python program to compute the distance between the points (x1, y1) and (x2, y2).\n"
   ]
  },
  {
   "cell_type": "code",
   "execution_count": 8,
   "metadata": {},
   "outputs": [
    {
     "name": "stdout",
     "output_type": "stream",
     "text": [
      "Enter Co-ordinate for x1 = 2\n",
      "Enter Co-ordinate for x2 = 4\n",
      "Enter Co-ordinate for y1 = 4\n",
      "Enter Co-ordinate for y1 = 4\n",
      "Distance between points (2.0, 4.0) and (4.0, 4.0) is (2.0, 0.0)\n"
     ]
    }
   ],
   "source": [
    "x1=float(input(\"Enter Co-ordinate for x1 = \"))\n",
    "x2=float(input(\"Enter Co-ordinate for x2 = \"))\n",
    "y1=float(input(\"Enter Co-ordinate for y1 = \"))\n",
    "y2=float(input(\"Enter Co-ordinate for y1 = \"))\n",
    "print(f\"Distance between points ({x1}, {x2}) and ({y1}, {y2}) is ({y1-x1}, {y2-x2})\")"
   ]
  },
  {
   "cell_type": "markdown",
   "metadata": {},
   "source": [
    "## 11. Feet to Centimeter Converter\n",
    "#### Write a Python program to convert height in feet to centimetres.\n"
   ]
  },
  {
   "cell_type": "code",
   "execution_count": 9,
   "metadata": {},
   "outputs": [
    {
     "name": "stdout",
     "output_type": "stream",
     "text": [
      "Enter The Height In Feets = 5\n",
      "There are 152.4 Cm in 5.0 ft\n"
     ]
    }
   ],
   "source": [
    "f=float(input(\"Enter The Height In Feets = \"))\n",
    "print(f\"There are {f*30.48} Cm in {f} ft\")"
   ]
  },
  {
   "cell_type": "markdown",
   "metadata": {},
   "source": [
    "## 12. BMI Calculator\n",
    "#### Write a Python program to calculate body mass index\n"
   ]
  },
  {
   "cell_type": "code",
   "execution_count": 10,
   "metadata": {},
   "outputs": [
    {
     "name": "stdout",
     "output_type": "stream",
     "text": [
      "Enter The Height In Cms = 180\n",
      "Enter The Weight in Kgs = 75\n",
      "Your BMI is 23.148148148148152\n"
     ]
    }
   ],
   "source": [
    "h=float(input(\"Enter The Height In Cms = \"))\n",
    "w=float(input(\"Enter The Weight in Kgs = \"))\n",
    "b=float(w/h/h)*10000\n",
    "print(f\"Your BMI is {b}\")"
   ]
  },
  {
   "cell_type": "markdown",
   "metadata": {},
   "source": [
    "## 13. Sum of n Positive Integers\n",
    "#### Write a python program to sum of the first n positive integers\n"
   ]
  },
  {
   "cell_type": "code",
   "execution_count": 13,
   "metadata": {},
   "outputs": [
    {
     "name": "stdout",
     "output_type": "stream",
     "text": [
      "Enter Value Of n = 5\n",
      "Sum of n Positive integers till 5 is 15\n"
     ]
    }
   ],
   "source": [
    "n=int(input(\"Enter Value Of n = \"))\n",
    "a=0\n",
    "for i in range(1,n+1):\n",
    "    a=a+i\n",
    "print(f\"Sum of n Positive integers till {n} is {a}\")"
   ]
  },
  {
   "cell_type": "markdown",
   "metadata": {},
   "source": [
    "## 14. Digits Sum of a Number\n",
    "#### Write a Python program to calculate the sum of the digits in an integer\n"
   ]
  },
  {
   "cell_type": "code",
   "execution_count": 15,
   "metadata": {},
   "outputs": [
    {
     "name": "stdout",
     "output_type": "stream",
     "text": [
      "Enter a number:15\n",
      "The total sum of digits is: 6\n"
     ]
    }
   ],
   "source": [
    "n=int(input(\"Enter a number:\"))\n",
    "t=0\n",
    "while(n>0):\n",
    "    d=n%10\n",
    "    t=t+d\n",
    "    n=n//10\n",
    "print(\"The total sum of digits is:\",t)"
   ]
  }
 ],
 "metadata": {
  "kernelspec": {
   "display_name": "Python 3",
   "language": "python",
   "name": "python3"
  },
  "language_info": {
   "codemirror_mode": {
    "name": "ipython",
    "version": 3
   },
   "file_extension": ".py",
   "mimetype": "text/x-python",
   "name": "python",
   "nbconvert_exporter": "python",
   "pygments_lexer": "ipython3",
   "version": "3.7.3"
  }
 },
 "nbformat": 4,
 "nbformat_minor": 2
}
